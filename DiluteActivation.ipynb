{
 "cells": [
  {
   "cell_type": "markdown",
   "metadata": {},
   "source": [
    "# Dilute activation experiment"
   ]
  },
  {
   "cell_type": "code",
   "execution_count": 1,
   "metadata": {},
   "outputs": [
    {
     "name": "stderr",
     "output_type": "stream",
     "text": [
      "\u001b[31mW0817 03:55:03 21133 minpy.dispatch.registry:register:47]\u001b[0m Type MXNet for name reshape has already existed\n",
      "/gpfsnyu/packages/lpython/2.7/intelpython2/lib/python2.7/site-packages/IPython/core/formatters.py:98: DeprecationWarning: DisplayFormatter._formatters_default is deprecated: use @default decorator instead.\n",
      "  def _formatters_default(self):\n",
      "/gpfsnyu/packages/lpython/2.7/intelpython2/lib/python2.7/site-packages/IPython/core/formatters.py:677: DeprecationWarning: PlainTextFormatter._deferred_printers_default is deprecated: use @default decorator instead.\n",
      "  def _deferred_printers_default(self):\n",
      "/gpfsnyu/packages/lpython/2.7/intelpython2/lib/python2.7/site-packages/IPython/core/formatters.py:669: DeprecationWarning: PlainTextFormatter._singleton_printers_default is deprecated: use @default decorator instead.\n",
      "  def _singleton_printers_default(self):\n",
      "/gpfsnyu/packages/lpython/2.7/intelpython2/lib/python2.7/site-packages/IPython/core/formatters.py:672: DeprecationWarning: PlainTextFormatter._type_printers_default is deprecated: use @default decorator instead.\n",
      "  def _type_printers_default(self):\n",
      "/gpfsnyu/packages/lpython/2.7/intelpython2/lib/python2.7/site-packages/IPython/core/formatters.py:672: DeprecationWarning: PlainTextFormatter._type_printers_default is deprecated: use @default decorator instead.\n",
      "  def _type_printers_default(self):\n",
      "/gpfsnyu/packages/lpython/2.7/intelpython2/lib/python2.7/site-packages/IPython/core/formatters.py:677: DeprecationWarning: PlainTextFormatter._deferred_printers_default is deprecated: use @default decorator instead.\n",
      "  def _deferred_printers_default(self):\n"
     ]
    }
   ],
   "source": [
    "import numpy as npp\n",
    "import minpy.numpy as np\n",
    "import cPickle\n",
    "import matplotlib.pyplot as plt\n",
    "import minpy\n",
    "minpy.set_global_policy('only_numpy')\n",
    "\n",
    "from model.VirtualRatModel import VirtualRatModel\n",
    "from model.VirtualRatSolver import VirtualRatSolver\n",
    "from model.VirtualRatBox import VirtualRatBox\n",
    "from model.VirtualRat import VirtualRat\n",
    "from model.VirtualRatFunctions import *\n",
    "\n",
    "%matplotlib inline\n",
    "plt.rcParams['figure.figsize'] = (8.0, 6.0) # set default size of plots\n",
    "plt.rcParams['image.interpolation'] = 'nearest'\n",
    "plt.rcParams['image.cmap'] = 'gray'\n",
    "\n",
    "# auto-reloading external modules\n",
    "%load_ext autoreload\n",
    "%autoreload 2"
   ]
  },
  {
   "cell_type": "markdown",
   "metadata": {},
   "source": [
    "## No need to run this if you only want to plot figures."
   ]
  },
  {
   "cell_type": "code",
   "execution_count": null,
   "metadata": {
    "scrolled": false
   },
   "outputs": [],
   "source": [
    "\"\"\"\n",
    "which_to_choose = load_weights(\"pkls/time_steps_for_3d-0.85.pkl\")\n",
    "linspace_num = 11\n",
    "pro_ratio = np.zeros((0,linspace_num))\n",
    "anti_ratio = np.zeros((0,linspace_num))\n",
    "\n",
    "for i in range(len(which_to_choose)):\n",
    "    ratname = \"VirtualRat\"+str(which_to_choose[i][0])\n",
    "    try:\n",
    "        loaded_params = load_weights(\"/scratch/xl1066/VirtualRat/publication/TrainingTime/trainedTrainingTime-\"+\\\n",
    "                                     str(which_to_choose[i][0])+\"-\"+str(which_to_choose[i][1]*100)+\".pkl\")\n",
    "        print ratname\n",
    "    except IOError:\n",
    "        continue\n",
    "    np.random.seed(which_to_choose[i][0])\n",
    "    npp.random.seed(which_to_choose[i][0])\n",
    "    box = VirtualRatBox(mode=\"alternative\",length=1000,block_size=30)\n",
    "    test_X, test_y = box.X, box.y\n",
    "    model = VirtualRatModel()\n",
    "    rat = VirtualRat(model,ratname = ratname, trial_window = 3)\n",
    "    solver = VirtualRatSolver(model, box)\n",
    "    \n",
    "    np.random.seed(which_to_choose[i][0])\n",
    "    npp.random.seed(which_to_choose[i][0])\n",
    "    \n",
    "    solver.init()\n",
    "    solver.load_params(loaded_params)\n",
    "    probs = rat.predict(test_X, test_y)\n",
    "    \n",
    "    pro_switch_cost = []\n",
    "    anti_switch_cost = []\n",
    "\n",
    "    pro_switch_cost_baseline = rat.pro_switch_cost\n",
    "    anti_switch_cost_baseline = rat.anti_switch_cost\n",
    "    for j in np.linspace(0,1, num=linspace_num):\n",
    "        print j\n",
    "        mask = np.ones((5,20))\n",
    "        mask[0,:] = j\n",
    "        model.lesion(mask = mask)\n",
    "        \n",
    "        np.random.seed(which_to_choose[i][0])\n",
    "        npp.random.seed(which_to_choose[i][0])\n",
    "        solver.init()\n",
    "        solver.load_params(loaded_params)\n",
    "        \n",
    "        probs = rat.predict(box.X,box.y)\n",
    "        pro_switch_cost.append(rat.pro_switch_cost)\n",
    "        anti_switch_cost.append(rat.anti_switch_cost)\n",
    "    pro_switch_cost_ratio = np.array(pro_switch_cost) / pro_switch_cost_baseline\n",
    "    anti_switch_cost_ratio = np.array(anti_switch_cost) / anti_switch_cost_baseline\n",
    "\n",
    "    pro_ratio = np.append(pro_ratio, np.expand_dims(pro_switch_cost_ratio, axis=0), axis = 0)\n",
    "    anti_ratio = np.append(anti_ratio, np.expand_dims(anti_switch_cost_ratio, axis=0), axis = 0)\n",
    "save_weights(\"pkls/dilutePro-0.85.pkl\",pro_ratio)\n",
    "save_weights(\"pkls/diluteAnti-0.85.pkl\",anti_ratio)\n",
    "\"\"\""
   ]
  },
  {
   "cell_type": "code",
   "execution_count": 2,
   "metadata": {
    "collapsed": true
   },
   "outputs": [],
   "source": [
    "pro_ratio = load_weights(\"pkls/dilutePro-0.85.pkl\")\n",
    "anti_ratio = load_weights(\"pkls/diluteAnti-0.85.pkl\")\n",
    "pro_ratio_cleaned = pro_ratio[np.sum(np.isnan(pro_ratio),axis=1) == 0,:]\n",
    "anti_ratio_cleaned = anti_ratio[np.sum(np.isnan(anti_ratio),axis=1) == 0,:]\n",
    "ratio = np.append(pro_ratio_cleaned,anti_ratio_cleaned,axis=0)"
   ]
  },
  {
   "cell_type": "code",
   "execution_count": 3,
   "metadata": {},
   "outputs": [
    {
     "name": "stderr",
     "output_type": "stream",
     "text": [
      "/gpfsnyu/packages/lpython/2.7/intelpython2/lib/python2.7/site-packages/IPython/core/formatters.py:92: DeprecationWarning: DisplayFormatter._ipython_display_formatter_default is deprecated: use @default decorator instead.\n",
      "  def _ipython_display_formatter_default(self):\n",
      "/gpfsnyu/packages/lpython/2.7/intelpython2/lib/python2.7/site-packages/IPython/core/formatters.py:669: DeprecationWarning: PlainTextFormatter._singleton_printers_default is deprecated: use @default decorator instead.\n",
      "  def _singleton_printers_default(self):\n"
     ]
    },
    {
     "data": {
      "image/png": "[encoded data removed]",
      "text/plain": [
       "<matplotlib.figure.Figure at 0x7ffb713e4410>"
      ]
     },
     "metadata": {},
     "output_type": "display_data"
    }
   ],
   "source": [
    "#diluteActivationMedian(ratio,filename = \"figures/Dilute.pdf\")\n",
    "diluteActivationMedian(ratio)"
   ]
  },
  {
   "cell_type": "code",
   "execution_count": null,
   "metadata": {
    "collapsed": true
   },
   "outputs": [],
   "source": []
  }
 ],
 "metadata": {
  "kernelspec": {
   "display_name": "Python 3",
   "language": "python",
   "name": "python3"
  },
  "language_info": {
   "codemirror_mode": {
    "name": "ipython",
    "version": 3
   },
   "file_extension": ".py",
   "mimetype": "text/x-python",
   "name": "python",
   "nbconvert_exporter": "python",
   "pygments_lexer": "ipython3",
   "version": "3.7.4"
  }
 },
 "nbformat": 4,
 "nbformat_minor": 1
}
